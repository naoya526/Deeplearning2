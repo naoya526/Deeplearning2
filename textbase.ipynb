{
 "cells": [
  {
   "cell_type": "code",
   "execution_count": 26,
   "id": "0c6cb6f3",
   "metadata": {},
   "outputs": [],
   "source": [
    "import sys\n",
    "sys.path.append('..')\n",
    "from common.utils import preprocess, create_co_matrix, most_similar"
   ]
  },
  {
   "cell_type": "code",
   "execution_count": null,
   "id": "83f2ae00",
   "metadata": {},
   "outputs": [
    {
     "name": "stdout",
     "output_type": "stream",
     "text": [
      "you say goodbye and i say hello .\n",
      "['you', 'say', 'goodbye', 'and', 'i', 'say', 'hello', '.']\n"
     ]
    }
   ],
   "source": [
    "text = 'You say goodbye and I say hello.'\n",
    "text = text.lower()\n",
    "text = text.replace('.',' .')\n",
    "print(text)\n",
    "words = text.split(' ')\n",
    "print(words)"
   ]
  },
  {
   "cell_type": "code",
   "execution_count": 28,
   "id": "a7f6211e",
   "metadata": {},
   "outputs": [
    {
     "name": "stdout",
     "output_type": "stream",
     "text": [
      "{'you': 0, 'say': 1, 'goodbye': 2, 'and': 3, 'i': 4, 'hello': 5, '.': 6}\n",
      "{0: 'you', 1: 'say', 2: 'goodbye', 3: 'and', 4: 'i', 5: 'hello', 6: '.'}\n"
     ]
    }
   ],
   "source": [
    "word_to_id = {}\n",
    "id_to_word = {}\n",
    "for word in words:\n",
    "    if word not in word_to_id:\n",
    "        new_id = len(word_to_id)\n",
    "        word_to_id[word] = new_id\n",
    "        id_to_word[new_id] = word\n",
    "print(word_to_id)\n",
    "print(id_to_word)"
   ]
  },
  {
   "cell_type": "markdown",
   "id": "3e17651e",
   "metadata": {},
   "source": [
    "単語リスト'text'を単語IDのリストcorpusに変換"
   ]
  },
  {
   "cell_type": "code",
   "execution_count": 29,
   "id": "a159c231",
   "metadata": {},
   "outputs": [
    {
     "name": "stdout",
     "output_type": "stream",
     "text": [
      "[0 1 2 3 4 1 5 6]\n",
      "you\n",
      "say\n",
      "goodbye\n",
      "and\n",
      "i\n",
      "say\n",
      "hello\n",
      ".\n"
     ]
    }
   ],
   "source": [
    "import numpy as np\n",
    "corpus = [word_to_id[w] for w in words]\n",
    "corpus =np.array(corpus)\n",
    "print(corpus)\n",
    "\n",
    "for n in corpus:\n",
    "    print(id_to_word[n])"
   ]
  },
  {
   "cell_type": "code",
   "execution_count": 30,
   "id": "fef3a4f3",
   "metadata": {},
   "outputs": [
    {
     "name": "stdout",
     "output_type": "stream",
     "text": [
      "[0 1 2 3 4 1 5 6]\n"
     ]
    }
   ],
   "source": [
    "from common.utils import preprocess\n",
    "\n",
    "text = 'You say goodbye and I say hello.'\n",
    "corpus, word_to_id, id_to_word = preprocess(text)\n",
    "print(corpus)"
   ]
  },
  {
   "cell_type": "code",
   "execution_count": 31,
   "id": "cc65d06b",
   "metadata": {},
   "outputs": [
    {
     "name": "stdout",
     "output_type": "stream",
     "text": [
      "[0 1 2 3 4 1 5 6]\n",
      "{0: 'you', 1: 'say', 2: 'goodbye', 3: 'and', 4: 'i', 5: 'hello', 6: '.'}\n"
     ]
    }
   ],
   "source": [
    "text = 'You say goodbye and I say hello.'\n",
    "corpus, word_to_id, id_to_word = preprocess(text)\n",
    "print(corpus)\n",
    "print(id_to_word)"
   ]
  },
  {
   "cell_type": "markdown",
   "id": "294bb12b",
   "metadata": {},
   "source": [
    "共起行列を手で打ち込んでみる．"
   ]
  },
  {
   "cell_type": "code",
   "execution_count": 32,
   "id": "cc2baddb",
   "metadata": {},
   "outputs": [
    {
     "name": "stdout",
     "output_type": "stream",
     "text": [
      "[0 1 0 0 0 0 0]\n"
     ]
    }
   ],
   "source": [
    "C = np.array([\n",
    "    [0,1,0,0,0,0,0],#you\n",
    "    [1,0,1,0,1,1,0],#say\n",
    "    [0,1,0,1,0,0,0],#goodbye\n",
    "    [0,0,1,0,1,0,0],#and\n",
    "    [0,1,0,1,0,0,0],#i\n",
    "    [0,1,0,0,0,0,1],#hello\n",
    "    [0,0,0,0,0,1,0],#.\n",
    "])\n",
    "#you say goodbye and i (say) hello .\n",
    "\n",
    "print(C[0])#youを表現するベクトル\n",
    "\n",
    "\n"
   ]
  },
  {
   "cell_type": "code",
   "execution_count": 33,
   "id": "70a394d2",
   "metadata": {},
   "outputs": [
    {
     "name": "stdout",
     "output_type": "stream",
     "text": [
      "[0 1 2 3 4 1 5 6] {'you': 0, 'say': 1, 'goodbye': 2, 'and': 3, 'i': 4, 'hello': 5, '.': 6} {0: 'you', 1: 'say', 2: 'goodbye', 3: 'and', 4: 'i', 5: 'hello', 6: '.'}\n"
     ]
    },
    {
     "ename": "UnboundLocalError",
     "evalue": "local variable 'left_idx' referenced before assignment",
     "output_type": "error",
     "traceback": [
      "\u001b[0;31m---------------------------------------------------------------------------\u001b[0m",
      "\u001b[0;31mUnboundLocalError\u001b[0m                         Traceback (most recent call last)",
      "Cell \u001b[0;32mIn[33], line 5\u001b[0m\n\u001b[1;32m      3\u001b[0m vocab_size \u001b[38;5;241m=\u001b[39m \u001b[38;5;28mlen\u001b[39m(word_to_id)\n\u001b[1;32m      4\u001b[0m \u001b[38;5;28mprint\u001b[39m(corpus,word_to_id,id_to_word)\n\u001b[0;32m----> 5\u001b[0m X \u001b[38;5;241m=\u001b[39m \u001b[43mcreate_co_matrix\u001b[49m\u001b[43m(\u001b[49m\u001b[43mcorpus\u001b[49m\u001b[43m,\u001b[49m\u001b[43mvocab_size\u001b[49m\u001b[43m)\u001b[49m\n\u001b[1;32m      6\u001b[0m most_similar(\u001b[38;5;124m'\u001b[39m\u001b[38;5;124myou\u001b[39m\u001b[38;5;124m'\u001b[39m,word_to_id, id_to_word, X,top\u001b[38;5;241m=\u001b[39m\u001b[38;5;241m5\u001b[39m)\n",
      "File \u001b[0;32m~/Deeplearning2/common/utils.py:31\u001b[0m, in \u001b[0;36mcreate_co_matrix\u001b[0;34m(corpus, vocab_size, window_size)\u001b[0m\n\u001b[1;32m     28\u001b[0m     left_idx \u001b[38;5;241m=\u001b[39m idx \u001b[38;5;241m-\u001b[39m i\n\u001b[1;32m     29\u001b[0m     right_idx \u001b[38;5;241m=\u001b[39m idx \u001b[38;5;241m+\u001b[39m i\n\u001b[0;32m---> 31\u001b[0m \u001b[38;5;28;01mif\u001b[39;00m \u001b[43mleft_idx\u001b[49m \u001b[38;5;241m>\u001b[39m\u001b[38;5;241m=\u001b[39m \u001b[38;5;241m0\u001b[39m:\n\u001b[1;32m     32\u001b[0m     left_word_id \u001b[38;5;241m=\u001b[39m corpus[left_idx]\n\u001b[1;32m     33\u001b[0m     co_matrix[word_id,left_word_id]\n",
      "\u001b[0;31mUnboundLocalError\u001b[0m: local variable 'left_idx' referenced before assignment"
     ]
    }
   ],
   "source": [
    "text = 'You say goodbye and I say hello.'\n",
    "corpus, word_to_id, id_to_word = preprocess(text)\n",
    "vocab_size = len(word_to_id)\n",
    "print(corpus,word_to_id,id_to_word)\n",
    "X = create_co_matrix(corpus,vocab_size)\n",
    "most_similar('you',word_to_id, id_to_word, X,top=5)"
   ]
  }
 ],
 "metadata": {
  "kernelspec": {
   "display_name": "Python 3",
   "language": "python",
   "name": "python3"
  },
  "language_info": {
   "codemirror_mode": {
    "name": "ipython",
    "version": 3
   },
   "file_extension": ".py",
   "mimetype": "text/x-python",
   "name": "python",
   "nbconvert_exporter": "python",
   "pygments_lexer": "ipython3",
   "version": "3.10.12"
  }
 },
 "nbformat": 4,
 "nbformat_minor": 5
}
